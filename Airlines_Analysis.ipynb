{
 "cells": [
  {
   "cell_type": "code",
   "execution_count": 1,
   "metadata": {
    "id": "5Ob8PNcJ8aV6"
   },
   "outputs": [],
   "source": [
    "import pandas as pd\n",
    "import string\n",
    "import re\n",
    "import nltk\n",
    "from nltk.corpus import stopwords\n",
    "from nltk.stem import WordNetLemmatizer"
   ]
  },
  {
   "cell_type": "code",
   "execution_count": 2,
   "metadata": {
    "colab": {
     "base_uri": "https://localhost:8080/"
    },
    "id": "EQZ4lswYA6rM",
    "outputId": "730ea3cc-8f87-4bab-9344-ce1ce5da4e3f"
   },
   "outputs": [
    {
     "name": "stderr",
     "output_type": "stream",
     "text": [
      "[nltk_data] Downloading package stopwords to\n",
      "[nltk_data]     /Users/andressalguero/nltk_data...\n",
      "[nltk_data]   Package stopwords is already up-to-date!\n",
      "[nltk_data] Downloading package wordnet to\n",
      "[nltk_data]     /Users/andressalguero/nltk_data...\n",
      "[nltk_data]   Package wordnet is already up-to-date!\n"
     ]
    },
    {
     "data": {
      "text/plain": [
       "True"
      ]
     },
     "execution_count": 2,
     "metadata": {},
     "output_type": "execute_result"
    }
   ],
   "source": [
    "# Download stopwords and wordnet\n",
    "nltk.download('stopwords')\n",
    "nltk.download('wordnet')"
   ]
  },
  {
   "cell_type": "code",
   "execution_count": 3,
   "metadata": {
    "id": "FxL3icNy8ize"
   },
   "outputs": [],
   "source": [
    "# Reading the csv file\n",
    "df=pd.read_csv('airlines_reviews.csv')"
   ]
  },
  {
   "cell_type": "code",
   "execution_count": 4,
   "metadata": {
    "colab": {
     "base_uri": "https://localhost:8080/",
     "height": 536
    },
    "id": "gExOhVqs8oAX",
    "outputId": "142656d9-da5b-410d-e9a5-66a6f593d4c3"
   },
   "outputs": [
    {
     "data": {
      "text/html": [
       "<div>\n",
       "<style scoped>\n",
       "    .dataframe tbody tr th:only-of-type {\n",
       "        vertical-align: middle;\n",
       "    }\n",
       "\n",
       "    .dataframe tbody tr th {\n",
       "        vertical-align: top;\n",
       "    }\n",
       "\n",
       "    .dataframe thead th {\n",
       "        text-align: right;\n",
       "    }\n",
       "</style>\n",
       "<table border=\"1\" class=\"dataframe\">\n",
       "  <thead>\n",
       "    <tr style=\"text-align: right;\">\n",
       "      <th></th>\n",
       "      <th>Title</th>\n",
       "      <th>Name</th>\n",
       "      <th>Review Date</th>\n",
       "      <th>Airline</th>\n",
       "      <th>Verified</th>\n",
       "      <th>Reviews</th>\n",
       "      <th>Type of Traveller</th>\n",
       "      <th>Month Flown</th>\n",
       "      <th>Route</th>\n",
       "      <th>Class</th>\n",
       "      <th>Seat Comfort</th>\n",
       "      <th>Staff Service</th>\n",
       "      <th>Food &amp; Beverages</th>\n",
       "      <th>Inflight Entertainment</th>\n",
       "      <th>Value For Money</th>\n",
       "      <th>Overall Rating</th>\n",
       "      <th>Recommended</th>\n",
       "    </tr>\n",
       "  </thead>\n",
       "  <tbody>\n",
       "    <tr>\n",
       "      <th>0</th>\n",
       "      <td>Flight was amazing</td>\n",
       "      <td>Alison Soetantyo</td>\n",
       "      <td>2024-03-01</td>\n",
       "      <td>Singapore Airlines</td>\n",
       "      <td>True</td>\n",
       "      <td>Flight was amazing. The crew onboard this fl...</td>\n",
       "      <td>Solo Leisure</td>\n",
       "      <td>December 2023</td>\n",
       "      <td>Jakarta to Singapore</td>\n",
       "      <td>Business Class</td>\n",
       "      <td>4</td>\n",
       "      <td>4</td>\n",
       "      <td>4</td>\n",
       "      <td>4</td>\n",
       "      <td>4</td>\n",
       "      <td>9</td>\n",
       "      <td>yes</td>\n",
       "    </tr>\n",
       "    <tr>\n",
       "      <th>1</th>\n",
       "      <td>seats on this aircraft are dreadful</td>\n",
       "      <td>Robert Watson</td>\n",
       "      <td>2024-02-21</td>\n",
       "      <td>Singapore Airlines</td>\n",
       "      <td>True</td>\n",
       "      <td>Booking an emergency exit seat still meant h...</td>\n",
       "      <td>Solo Leisure</td>\n",
       "      <td>February 2024</td>\n",
       "      <td>Phuket to Singapore</td>\n",
       "      <td>Economy Class</td>\n",
       "      <td>5</td>\n",
       "      <td>3</td>\n",
       "      <td>4</td>\n",
       "      <td>4</td>\n",
       "      <td>1</td>\n",
       "      <td>3</td>\n",
       "      <td>no</td>\n",
       "    </tr>\n",
       "    <tr>\n",
       "      <th>2</th>\n",
       "      <td>Food was plentiful and tasty</td>\n",
       "      <td>S Han</td>\n",
       "      <td>2024-02-20</td>\n",
       "      <td>Singapore Airlines</td>\n",
       "      <td>True</td>\n",
       "      <td>Excellent performance on all fronts. I would...</td>\n",
       "      <td>Family Leisure</td>\n",
       "      <td>February 2024</td>\n",
       "      <td>Siem Reap to Singapore</td>\n",
       "      <td>Economy Class</td>\n",
       "      <td>1</td>\n",
       "      <td>5</td>\n",
       "      <td>2</td>\n",
       "      <td>1</td>\n",
       "      <td>5</td>\n",
       "      <td>10</td>\n",
       "      <td>yes</td>\n",
       "    </tr>\n",
       "    <tr>\n",
       "      <th>3</th>\n",
       "      <td>“how much food was available</td>\n",
       "      <td>D Laynes</td>\n",
       "      <td>2024-02-19</td>\n",
       "      <td>Singapore Airlines</td>\n",
       "      <td>True</td>\n",
       "      <td>Pretty comfortable flight considering I was f...</td>\n",
       "      <td>Solo Leisure</td>\n",
       "      <td>February 2024</td>\n",
       "      <td>Singapore to London Heathrow</td>\n",
       "      <td>Economy Class</td>\n",
       "      <td>5</td>\n",
       "      <td>5</td>\n",
       "      <td>5</td>\n",
       "      <td>5</td>\n",
       "      <td>5</td>\n",
       "      <td>10</td>\n",
       "      <td>yes</td>\n",
       "    </tr>\n",
       "    <tr>\n",
       "      <th>4</th>\n",
       "      <td>“service was consistently good”</td>\n",
       "      <td>A Othman</td>\n",
       "      <td>2024-02-19</td>\n",
       "      <td>Singapore Airlines</td>\n",
       "      <td>True</td>\n",
       "      <td>The service was consistently good from start ...</td>\n",
       "      <td>Family Leisure</td>\n",
       "      <td>February 2024</td>\n",
       "      <td>Singapore to Phnom Penh</td>\n",
       "      <td>Economy Class</td>\n",
       "      <td>5</td>\n",
       "      <td>5</td>\n",
       "      <td>5</td>\n",
       "      <td>5</td>\n",
       "      <td>5</td>\n",
       "      <td>10</td>\n",
       "      <td>yes</td>\n",
       "    </tr>\n",
       "  </tbody>\n",
       "</table>\n",
       "</div>"
      ],
      "text/plain": [
       "                                  Title              Name Review Date  \\\n",
       "0                    Flight was amazing  Alison Soetantyo  2024-03-01   \n",
       "1  seats on this aircraft are dreadful      Robert Watson  2024-02-21   \n",
       "2          Food was plentiful and tasty             S Han  2024-02-20   \n",
       "3          “how much food was available          D Laynes  2024-02-19   \n",
       "4       “service was consistently good”         A Othman   2024-02-19   \n",
       "\n",
       "              Airline Verified  \\\n",
       "0  Singapore Airlines     True   \n",
       "1  Singapore Airlines     True   \n",
       "2  Singapore Airlines     True   \n",
       "3  Singapore Airlines     True   \n",
       "4  Singapore Airlines     True   \n",
       "\n",
       "                                             Reviews Type of Traveller  \\\n",
       "0    Flight was amazing. The crew onboard this fl...      Solo Leisure   \n",
       "1    Booking an emergency exit seat still meant h...      Solo Leisure   \n",
       "2    Excellent performance on all fronts. I would...    Family Leisure   \n",
       "3   Pretty comfortable flight considering I was f...      Solo Leisure   \n",
       "4   The service was consistently good from start ...    Family Leisure   \n",
       "\n",
       "     Month Flown                         Route           Class  Seat Comfort  \\\n",
       "0  December 2023          Jakarta to Singapore  Business Class             4   \n",
       "1  February 2024           Phuket to Singapore   Economy Class             5   \n",
       "2  February 2024        Siem Reap to Singapore   Economy Class             1   \n",
       "3  February 2024  Singapore to London Heathrow   Economy Class             5   \n",
       "4  February 2024       Singapore to Phnom Penh   Economy Class             5   \n",
       "\n",
       "   Staff Service  Food & Beverages  Inflight Entertainment  Value For Money  \\\n",
       "0              4                 4                       4                4   \n",
       "1              3                 4                       4                1   \n",
       "2              5                 2                       1                5   \n",
       "3              5                 5                       5                5   \n",
       "4              5                 5                       5                5   \n",
       "\n",
       "   Overall Rating Recommended  \n",
       "0               9         yes  \n",
       "1               3          no  \n",
       "2              10         yes  \n",
       "3              10         yes  \n",
       "4              10         yes  "
      ]
     },
     "execution_count": 4,
     "metadata": {},
     "output_type": "execute_result"
    }
   ],
   "source": [
    "# Displaying first 5 rows of the dataset\n",
    "df.head()"
   ]
  },
  {
   "cell_type": "code",
   "execution_count": 5,
   "metadata": {
    "colab": {
     "base_uri": "https://localhost:8080/"
    },
    "id": "gdsfEZik-020",
    "outputId": "7f681848-0903-48f2-ae82-ef799776626b"
   },
   "outputs": [
    {
     "data": {
      "text/plain": [
       "(8100, 17)"
      ]
     },
     "execution_count": 5,
     "metadata": {},
     "output_type": "execute_result"
    }
   ],
   "source": [
    "# Displaying the shape of the dataset\n",
    "df.shape"
   ]
  },
  {
   "cell_type": "code",
   "execution_count": 6,
   "metadata": {
    "colab": {
     "base_uri": "https://localhost:8080/"
    },
    "id": "PhQk3prI8xAy",
    "outputId": "83c018bf-f9e8-4d95-d607-c0bb0c52e6e7"
   },
   "outputs": [
    {
     "name": "stdout",
     "output_type": "stream",
     "text": [
      "<class 'pandas.core.frame.DataFrame'>\n",
      "RangeIndex: 8100 entries, 0 to 8099\n",
      "Data columns (total 17 columns):\n",
      " #   Column                  Non-Null Count  Dtype \n",
      "---  ------                  --------------  ----- \n",
      " 0   Title                   8100 non-null   object\n",
      " 1   Name                    8100 non-null   object\n",
      " 2   Review Date             8100 non-null   object\n",
      " 3   Airline                 8100 non-null   object\n",
      " 4   Verified                8100 non-null   object\n",
      " 5   Reviews                 8100 non-null   object\n",
      " 6   Type of Traveller       8100 non-null   object\n",
      " 7   Month Flown             8100 non-null   object\n",
      " 8   Route                   8100 non-null   object\n",
      " 9   Class                   8100 non-null   object\n",
      " 10  Seat Comfort            8100 non-null   int64 \n",
      " 11  Staff Service           8100 non-null   int64 \n",
      " 12  Food & Beverages        8100 non-null   int64 \n",
      " 13  Inflight Entertainment  8100 non-null   int64 \n",
      " 14  Value For Money         8100 non-null   int64 \n",
      " 15  Overall Rating          8100 non-null   int64 \n",
      " 16  Recommended             8100 non-null   object\n",
      "dtypes: int64(6), object(11)\n",
      "memory usage: 1.1+ MB\n"
     ]
    }
   ],
   "source": [
    "df.info()"
   ]
  },
  {
   "cell_type": "code",
   "execution_count": 7,
   "metadata": {
    "colab": {
     "base_uri": "https://localhost:8080/",
     "height": 300
    },
    "collapsed": true,
    "id": "pPj4sIwJ80QI",
    "outputId": "4cf0dfa5-117c-4e03-a29b-f3e11244ee93"
   },
   "outputs": [
    {
     "data": {
      "text/html": [
       "<div>\n",
       "<style scoped>\n",
       "    .dataframe tbody tr th:only-of-type {\n",
       "        vertical-align: middle;\n",
       "    }\n",
       "\n",
       "    .dataframe tbody tr th {\n",
       "        vertical-align: top;\n",
       "    }\n",
       "\n",
       "    .dataframe thead th {\n",
       "        text-align: right;\n",
       "    }\n",
       "</style>\n",
       "<table border=\"1\" class=\"dataframe\">\n",
       "  <thead>\n",
       "    <tr style=\"text-align: right;\">\n",
       "      <th></th>\n",
       "      <th>Seat Comfort</th>\n",
       "      <th>Staff Service</th>\n",
       "      <th>Food &amp; Beverages</th>\n",
       "      <th>Inflight Entertainment</th>\n",
       "      <th>Value For Money</th>\n",
       "      <th>Overall Rating</th>\n",
       "    </tr>\n",
       "  </thead>\n",
       "  <tbody>\n",
       "    <tr>\n",
       "      <th>count</th>\n",
       "      <td>8100.000000</td>\n",
       "      <td>8100.000000</td>\n",
       "      <td>8100.000000</td>\n",
       "      <td>8100.000000</td>\n",
       "      <td>8100.000000</td>\n",
       "      <td>8100.000000</td>\n",
       "    </tr>\n",
       "    <tr>\n",
       "      <th>mean</th>\n",
       "      <td>3.414815</td>\n",
       "      <td>3.569877</td>\n",
       "      <td>3.384074</td>\n",
       "      <td>3.636790</td>\n",
       "      <td>3.148642</td>\n",
       "      <td>5.632469</td>\n",
       "    </tr>\n",
       "    <tr>\n",
       "      <th>std</th>\n",
       "      <td>1.397183</td>\n",
       "      <td>1.527436</td>\n",
       "      <td>1.455694</td>\n",
       "      <td>1.309564</td>\n",
       "      <td>1.589377</td>\n",
       "      <td>3.523664</td>\n",
       "    </tr>\n",
       "    <tr>\n",
       "      <th>min</th>\n",
       "      <td>1.000000</td>\n",
       "      <td>1.000000</td>\n",
       "      <td>1.000000</td>\n",
       "      <td>0.000000</td>\n",
       "      <td>1.000000</td>\n",
       "      <td>1.000000</td>\n",
       "    </tr>\n",
       "    <tr>\n",
       "      <th>25%</th>\n",
       "      <td>2.000000</td>\n",
       "      <td>2.000000</td>\n",
       "      <td>2.000000</td>\n",
       "      <td>3.000000</td>\n",
       "      <td>1.000000</td>\n",
       "      <td>2.000000</td>\n",
       "    </tr>\n",
       "    <tr>\n",
       "      <th>50%</th>\n",
       "      <td>4.000000</td>\n",
       "      <td>4.000000</td>\n",
       "      <td>4.000000</td>\n",
       "      <td>4.000000</td>\n",
       "      <td>3.000000</td>\n",
       "      <td>6.000000</td>\n",
       "    </tr>\n",
       "    <tr>\n",
       "      <th>75%</th>\n",
       "      <td>5.000000</td>\n",
       "      <td>5.000000</td>\n",
       "      <td>5.000000</td>\n",
       "      <td>5.000000</td>\n",
       "      <td>5.000000</td>\n",
       "      <td>9.000000</td>\n",
       "    </tr>\n",
       "    <tr>\n",
       "      <th>max</th>\n",
       "      <td>5.000000</td>\n",
       "      <td>5.000000</td>\n",
       "      <td>5.000000</td>\n",
       "      <td>5.000000</td>\n",
       "      <td>5.000000</td>\n",
       "      <td>10.000000</td>\n",
       "    </tr>\n",
       "  </tbody>\n",
       "</table>\n",
       "</div>"
      ],
      "text/plain": [
       "       Seat Comfort  Staff Service  Food & Beverages  Inflight Entertainment  \\\n",
       "count   8100.000000    8100.000000       8100.000000             8100.000000   \n",
       "mean       3.414815       3.569877          3.384074                3.636790   \n",
       "std        1.397183       1.527436          1.455694                1.309564   \n",
       "min        1.000000       1.000000          1.000000                0.000000   \n",
       "25%        2.000000       2.000000          2.000000                3.000000   \n",
       "50%        4.000000       4.000000          4.000000                4.000000   \n",
       "75%        5.000000       5.000000          5.000000                5.000000   \n",
       "max        5.000000       5.000000          5.000000                5.000000   \n",
       "\n",
       "       Value For Money  Overall Rating  \n",
       "count      8100.000000     8100.000000  \n",
       "mean          3.148642        5.632469  \n",
       "std           1.589377        3.523664  \n",
       "min           1.000000        1.000000  \n",
       "25%           1.000000        2.000000  \n",
       "50%           3.000000        6.000000  \n",
       "75%           5.000000        9.000000  \n",
       "max           5.000000       10.000000  "
      ]
     },
     "execution_count": 7,
     "metadata": {},
     "output_type": "execute_result"
    }
   ],
   "source": [
    "df.describe()"
   ]
  },
  {
   "cell_type": "code",
   "execution_count": 8,
   "metadata": {
    "colab": {
     "base_uri": "https://localhost:8080/"
    },
    "id": "gWR7rCHe-TDT",
    "outputId": "8b06a412-efe7-430a-9798-7622a612285f"
   },
   "outputs": [
    {
     "data": {
      "text/plain": [
       "Index(['Title', 'Name', 'Review Date', 'Airline', 'Verified', 'Reviews',\n",
       "       'Type of Traveller', 'Month Flown', 'Route', 'Class', 'Seat Comfort',\n",
       "       'Staff Service', 'Food & Beverages', 'Inflight Entertainment',\n",
       "       'Value For Money', 'Overall Rating', 'Recommended'],\n",
       "      dtype='object')"
      ]
     },
     "execution_count": 8,
     "metadata": {},
     "output_type": "execute_result"
    }
   ],
   "source": [
    "df.columns"
   ]
  },
  {
   "cell_type": "code",
   "execution_count": 9,
   "metadata": {
    "colab": {
     "base_uri": "https://localhost:8080/",
     "height": 617
    },
    "collapsed": true,
    "id": "J1t7z5-O8s_V",
    "outputId": "4eabcdb8-245d-4fe6-cea7-44e15dbb79dc"
   },
   "outputs": [
    {
     "data": {
      "text/plain": [
       "Title                     0\n",
       "Name                      0\n",
       "Review Date               0\n",
       "Airline                   0\n",
       "Verified                  0\n",
       "Reviews                   0\n",
       "Type of Traveller         0\n",
       "Month Flown               0\n",
       "Route                     0\n",
       "Class                     0\n",
       "Seat Comfort              0\n",
       "Staff Service             0\n",
       "Food & Beverages          0\n",
       "Inflight Entertainment    0\n",
       "Value For Money           0\n",
       "Overall Rating            0\n",
       "Recommended               0\n",
       "dtype: int64"
      ]
     },
     "execution_count": 9,
     "metadata": {},
     "output_type": "execute_result"
    }
   ],
   "source": [
    "df.isnull().sum()"
   ]
  },
  {
   "cell_type": "code",
   "execution_count": 10,
   "metadata": {
    "id": "QeE-M8ENCoC1"
   },
   "outputs": [],
   "source": [
    "# Text preprocessing"
   ]
  },
  {
   "cell_type": "code",
   "execution_count": 10,
   "metadata": {
    "id": "5k1z8jnJCsOF"
   },
   "outputs": [],
   "source": []
  },
  {
   "cell_type": "code",
   "execution_count": 10,
   "metadata": {
    "id": "qgeumnjCBQL2"
   },
   "outputs": [],
   "source": [
    "# Initialize lemmatizer and stopwords\n",
    "lemmatizer = WordNetLemmatizer()\n",
    "stop_words = set(stopwords.words('english'))\n"
   ]
  },
  {
   "cell_type": "code",
   "execution_count": 11,
   "metadata": {
    "id": "UU8hnb95BmQ4"
   },
   "outputs": [],
   "source": [
    "# Function for text cleaning and preprocessing\n",
    "def preprocess_text(text):\n",
    "\n",
    "    # Remove punctuation and special characters\n",
    "    text = str.translate(text, str.maketrans('', '', string.punctuation))\n",
    "    # Remove numbers\n",
    "    text = re.sub(r'\\d+', '', text)\n",
    "    # Tokenize and remove stopwords\n",
    "    tokens = [word for word in text.split() if word not in stop_words]\n",
    "    # Lemmatize tokens\n",
    "    tokens = [lemmatizer.lemmatize(word) for word in tokens]\n",
    "    # Join tokens back to a single string\n",
    "    return ' '.join(tokens)"
   ]
  },
  {
   "cell_type": "code",
   "execution_count": 12,
   "metadata": {
    "id": "Dpw98j_tCCZW"
   },
   "outputs": [],
   "source": [
    "# Apply preprocessing to the 'Reviews' column\n",
    "df['Cleaned_Reviews'] = df['Reviews'].apply(preprocess_text)\n"
   ]
  },
  {
   "cell_type": "code",
   "execution_count": 13,
   "metadata": {
    "colab": {
     "base_uri": "https://localhost:8080/",
     "height": 424
    },
    "id": "U-YRUBW8CR-A",
    "outputId": "3ca59049-f4d3-49e0-fa2a-cf6b6dddadcf"
   },
   "outputs": [
    {
     "data": {
      "text/html": [
       "<div>\n",
       "<style scoped>\n",
       "    .dataframe tbody tr th:only-of-type {\n",
       "        vertical-align: middle;\n",
       "    }\n",
       "\n",
       "    .dataframe tbody tr th {\n",
       "        vertical-align: top;\n",
       "    }\n",
       "\n",
       "    .dataframe thead th {\n",
       "        text-align: right;\n",
       "    }\n",
       "</style>\n",
       "<table border=\"1\" class=\"dataframe\">\n",
       "  <thead>\n",
       "    <tr style=\"text-align: right;\">\n",
       "      <th></th>\n",
       "      <th>Reviews</th>\n",
       "      <th>Cleaned_Reviews</th>\n",
       "    </tr>\n",
       "  </thead>\n",
       "  <tbody>\n",
       "    <tr>\n",
       "      <th>0</th>\n",
       "      <td>Flight was amazing. The crew onboard this fl...</td>\n",
       "      <td>Flight amazing The crew onboard flight welcomi...</td>\n",
       "    </tr>\n",
       "    <tr>\n",
       "      <th>1</th>\n",
       "      <td>Booking an emergency exit seat still meant h...</td>\n",
       "      <td>Booking emergency exit seat still meant huge d...</td>\n",
       "    </tr>\n",
       "    <tr>\n",
       "      <th>2</th>\n",
       "      <td>Excellent performance on all fronts. I would...</td>\n",
       "      <td>Excellent performance front I would definitely...</td>\n",
       "    </tr>\n",
       "    <tr>\n",
       "      <th>3</th>\n",
       "      <td>Pretty comfortable flight considering I was f...</td>\n",
       "      <td>Pretty comfortable flight considering I flying...</td>\n",
       "    </tr>\n",
       "    <tr>\n",
       "      <th>4</th>\n",
       "      <td>The service was consistently good from start ...</td>\n",
       "      <td>The service consistently good start finish The...</td>\n",
       "    </tr>\n",
       "    <tr>\n",
       "      <th>...</th>\n",
       "      <td>...</td>\n",
       "      <td>...</td>\n",
       "    </tr>\n",
       "    <tr>\n",
       "      <th>8095</th>\n",
       "      <td>KE124, Brisbane to Incheon (A330) and KE867,...</td>\n",
       "      <td>KE Brisbane Incheon A KE Incheon Ulaanbaatar A...</td>\n",
       "    </tr>\n",
       "    <tr>\n",
       "      <th>8096</th>\n",
       "      <td>Our recent flight was our fourth trip to the...</td>\n",
       "      <td>Our recent flight fourth trip UK year Sydney L...</td>\n",
       "    </tr>\n",
       "    <tr>\n",
       "      <th>8097</th>\n",
       "      <td>I flew Korean Air from Bali to Seoul in Pres...</td>\n",
       "      <td>I flew Korean Air Bali Seoul Prestige Class Bu...</td>\n",
       "    </tr>\n",
       "    <tr>\n",
       "      <th>8098</th>\n",
       "      <td>Seoul to Paris with Korean Air. I am traveli...</td>\n",
       "      <td>Seoul Paris Korean Air I traveling triathlon b...</td>\n",
       "    </tr>\n",
       "    <tr>\n",
       "      <th>8099</th>\n",
       "      <td>The 13 hour flight in Business class from Se...</td>\n",
       "      <td>The hour flight Business class Seoul Toronto o...</td>\n",
       "    </tr>\n",
       "  </tbody>\n",
       "</table>\n",
       "<p>8100 rows × 2 columns</p>\n",
       "</div>"
      ],
      "text/plain": [
       "                                                Reviews  \\\n",
       "0       Flight was amazing. The crew onboard this fl...   \n",
       "1       Booking an emergency exit seat still meant h...   \n",
       "2       Excellent performance on all fronts. I would...   \n",
       "3      Pretty comfortable flight considering I was f...   \n",
       "4      The service was consistently good from start ...   \n",
       "...                                                 ...   \n",
       "8095    KE124, Brisbane to Incheon (A330) and KE867,...   \n",
       "8096    Our recent flight was our fourth trip to the...   \n",
       "8097    I flew Korean Air from Bali to Seoul in Pres...   \n",
       "8098    Seoul to Paris with Korean Air. I am traveli...   \n",
       "8099    The 13 hour flight in Business class from Se...   \n",
       "\n",
       "                                        Cleaned_Reviews  \n",
       "0     Flight amazing The crew onboard flight welcomi...  \n",
       "1     Booking emergency exit seat still meant huge d...  \n",
       "2     Excellent performance front I would definitely...  \n",
       "3     Pretty comfortable flight considering I flying...  \n",
       "4     The service consistently good start finish The...  \n",
       "...                                                 ...  \n",
       "8095  KE Brisbane Incheon A KE Incheon Ulaanbaatar A...  \n",
       "8096  Our recent flight fourth trip UK year Sydney L...  \n",
       "8097  I flew Korean Air Bali Seoul Prestige Class Bu...  \n",
       "8098  Seoul Paris Korean Air I traveling triathlon b...  \n",
       "8099  The hour flight Business class Seoul Toronto o...  \n",
       "\n",
       "[8100 rows x 2 columns]"
      ]
     },
     "execution_count": 13,
     "metadata": {},
     "output_type": "execute_result"
    }
   ],
   "source": [
    "# Preview the cleaned data\n",
    "df[['Reviews', 'Cleaned_Reviews']]"
   ]
  },
  {
   "cell_type": "code",
   "execution_count": 15,
   "metadata": {
    "id": "4IdNe5j6Cd2O"
   },
   "outputs": [],
   "source": [
    "# Feature Engineering"
   ]
  },
  {
   "cell_type": "code",
   "execution_count": 14,
   "metadata": {
    "id": "5ZAOrz8T-_8N"
   },
   "outputs": [],
   "source": [
    "# Convert 'Review Date' to datetime format\n",
    "df['Review Date'] = pd.to_datetime(df['Review Date'])\n"
   ]
  },
  {
   "cell_type": "code",
   "execution_count": 15,
   "metadata": {
    "id": "UMa4A81W_yyv"
   },
   "outputs": [],
   "source": [
    "# Extracting date features\n",
    "df['Year Flown'] = df['Review Date'].dt.year\n",
    "df['Month Flown'] = df['Review Date'].dt.month\n",
    "df['Day '] = df['Review Date'].dt.day\n",
    "df['Day of Week'] = df['Review Date'].dt.dayofweek  # Monday=0, Sunday=6\n",
    "df['Week of Year'] = df['Review Date'].dt.isocalendar().week  # Week of year"
   ]
  },
  {
   "cell_type": "code",
   "execution_count": 16,
   "metadata": {
    "colab": {
     "base_uri": "https://localhost:8080/",
     "height": 458
    },
    "collapsed": true,
    "id": "r_nqtdlqCta9",
    "outputId": "3842f2bd-9e53-4371-d2e4-360dc2868b88"
   },
   "outputs": [
    {
     "data": {
      "text/plain": [
       "0       330\n",
       "1       193\n",
       "2       144\n",
       "3       691\n",
       "4       213\n",
       "       ... \n",
       "8095    491\n",
       "8096    789\n",
       "8097    733\n",
       "8098    868\n",
       "8099    211\n",
       "Name: Review_Length, Length: 8100, dtype: int64"
      ]
     },
     "execution_count": 16,
     "metadata": {},
     "output_type": "execute_result"
    }
   ],
   "source": [
    "# Length of review text\n",
    "df['Review_Length'] = df['Cleaned_Reviews'].apply(len)\n",
    "df['Review_Length']"
   ]
  },
  {
   "cell_type": "code",
   "execution_count": 17,
   "metadata": {
    "colab": {
     "base_uri": "https://localhost:8080/",
     "height": 458
    },
    "collapsed": true,
    "id": "KeL7lmqGDEOf",
    "outputId": "517597ac-743e-4d1b-d995-8b452bd97132"
   },
   "outputs": [
    {
     "data": {
      "text/plain": [
       "0        53\n",
       "1        28\n",
       "2        18\n",
       "3        98\n",
       "4        32\n",
       "       ... \n",
       "8095     76\n",
       "8096    115\n",
       "8097    115\n",
       "8098    127\n",
       "8099     30\n",
       "Name: Word_Count, Length: 8100, dtype: int64"
      ]
     },
     "execution_count": 17,
     "metadata": {},
     "output_type": "execute_result"
    }
   ],
   "source": [
    "# Word count in the review\n",
    "df['Word_Count'] = df['Cleaned_Reviews'].apply(lambda x: len(x.split()))\n",
    "df['Word_Count']"
   ]
  },
  {
   "cell_type": "code",
   "execution_count": 18,
   "metadata": {
    "id": "VTL1ymaPG__i"
   },
   "outputs": [],
   "source": [
    "df['Recommended'] = df['Recommended'].map({'yes': 1, 'no': 0})"
   ]
  },
  {
   "cell_type": "code",
   "execution_count": 19,
   "metadata": {
    "colab": {
     "base_uri": "https://localhost:8080/"
    },
    "id": "dyhT_YTfhu6h",
    "outputId": "46bf9959-e103-452c-d139-3319ec3c4ae6"
   },
   "outputs": [
    {
     "name": "stdout",
     "output_type": "stream",
     "text": [
      "<class 'pandas.core.frame.DataFrame'>\n",
      "RangeIndex: 8100 entries, 0 to 8099\n",
      "Data columns (total 24 columns):\n",
      " #   Column                  Non-Null Count  Dtype         \n",
      "---  ------                  --------------  -----         \n",
      " 0   Title                   8100 non-null   object        \n",
      " 1   Name                    8100 non-null   object        \n",
      " 2   Review Date             8100 non-null   datetime64[ns]\n",
      " 3   Airline                 8100 non-null   object        \n",
      " 4   Verified                8100 non-null   object        \n",
      " 5   Reviews                 8100 non-null   object        \n",
      " 6   Type of Traveller       8100 non-null   object        \n",
      " 7   Month Flown             8100 non-null   int32         \n",
      " 8   Route                   8100 non-null   object        \n",
      " 9   Class                   8100 non-null   object        \n",
      " 10  Seat Comfort            8100 non-null   int64         \n",
      " 11  Staff Service           8100 non-null   int64         \n",
      " 12  Food & Beverages        8100 non-null   int64         \n",
      " 13  Inflight Entertainment  8100 non-null   int64         \n",
      " 14  Value For Money         8100 non-null   int64         \n",
      " 15  Overall Rating          8100 non-null   int64         \n",
      " 16  Recommended             8100 non-null   int64         \n",
      " 17  Cleaned_Reviews         8100 non-null   object        \n",
      " 18  Year Flown              8100 non-null   int32         \n",
      " 19  Day                     8100 non-null   int32         \n",
      " 20  Day of Week             8100 non-null   int32         \n",
      " 21  Week of Year            8100 non-null   UInt32        \n",
      " 22  Review_Length           8100 non-null   int64         \n",
      " 23  Word_Count              8100 non-null   int64         \n",
      "dtypes: UInt32(1), datetime64[ns](1), int32(4), int64(9), object(9)\n",
      "memory usage: 1.3+ MB\n"
     ]
    }
   ],
   "source": [
    "df.info()"
   ]
  },
  {
   "cell_type": "code",
   "execution_count": 20,
   "metadata": {
    "colab": {
     "base_uri": "https://localhost:8080/"
    },
    "id": "_4B9jII1QNhj",
    "outputId": "c495fb5d-ebb3-4342-dc3c-658932c5f5ec"
   },
   "outputs": [
    {
     "data": {
      "text/plain": [
       "Index(['Title', 'Name', 'Review Date', 'Airline', 'Verified', 'Reviews',\n",
       "       'Type of Traveller', 'Month Flown', 'Route', 'Class', 'Seat Comfort',\n",
       "       'Staff Service', 'Food & Beverages', 'Inflight Entertainment',\n",
       "       'Value For Money', 'Overall Rating', 'Recommended', 'Cleaned_Reviews',\n",
       "       'Year Flown', 'Day ', 'Day of Week', 'Week of Year', 'Review_Length',\n",
       "       'Word_Count'],\n",
       "      dtype='object')"
      ]
     },
     "execution_count": 20,
     "metadata": {},
     "output_type": "execute_result"
    }
   ],
   "source": [
    "df.columns"
   ]
  },
  {
   "cell_type": "code",
   "execution_count": 23,
   "metadata": {
    "id": "XA6P1Np3PvQR"
   },
   "outputs": [],
   "source": [
    "# Dropping columns that are not necessary"
   ]
  },
  {
   "cell_type": "code",
   "execution_count": 21,
   "metadata": {
    "id": "GQweCbsEQBU5"
   },
   "outputs": [],
   "source": [
    "df.drop(['Review Date', 'Title','Name','Route'], axis=1, inplace=True)"
   ]
  },
  {
   "cell_type": "code",
   "execution_count": 25,
   "metadata": {
    "id": "g_NzL26VgPyM"
   },
   "outputs": [],
   "source": [
    "# One-hot Encoding"
   ]
  },
  {
   "cell_type": "code",
   "execution_count": 22,
   "metadata": {
    "id": "WGsH_spviBJB"
   },
   "outputs": [],
   "source": [
    "columns_categorical = df.select_dtypes(include=['object']).columns\n",
    "columns_numerical = ['Review_Length', 'Word_Count','Year Flown','Month Flown','Day ','Day of Week','Week of Year']\n"
   ]
  },
  {
   "cell_type": "code",
   "execution_count": 23,
   "metadata": {
    "id": "3Zl1OcLho1j8"
   },
   "outputs": [],
   "source": [
    "from sklearn.preprocessing import OneHotEncoder\n",
    "import pandas as pd\n",
    "\n",
    "\n",
    "columns_categorical = df.select_dtypes(include=['object']).columns\n",
    "# Exclude 'Cleaned_Reviews' from categorical columns\n",
    "columns_categorical = columns_categorical[columns_categorical != 'Cleaned_Reviews']\n",
    "columns_numerical = ['Review_Length', 'Word_Count','Year Flown','Month Flown','Day ','Day of Week','Week of Year']\n",
    "\n"
   ]
  },
  {
   "cell_type": "code",
   "execution_count": 24,
   "metadata": {
    "id": "belw5YlA54i3"
   },
   "outputs": [],
   "source": [
    "\n",
    "onehot_encoder = OneHotEncoder(sparse_output=False, drop='first')\n",
    "for column in columns_categorical:\n",
    "    encoded_data = onehot_encoder.fit_transform(df[[column]])\n",
    "    encoded_df = pd.DataFrame(encoded_data, columns=onehot_encoder.get_feature_names_out([column]))\n",
    "    df = pd.concat([df, encoded_df], axis=1)\n",
    "\n",
    "# Dropping categorical columns, excluding 'Cleaned_Reviews'\n",
    "df.drop(columns_categorical, axis=1, inplace=True)\n"
   ]
  },
  {
   "cell_type": "code",
   "execution_count": 25,
   "metadata": {
    "colab": {
     "base_uri": "https://localhost:8080/"
    },
    "id": "FVqf_Yx95dre",
    "outputId": "44512991-ec98-4bb8-dbf6-fd4cb12365a3"
   },
   "outputs": [
    {
     "name": "stdout",
     "output_type": "stream",
     "text": [
      "Sentiment Analysis DataFrame:\n",
      "   Overall Rating                                    Cleaned_Reviews\n",
      "0               9  Flight amazing The crew onboard flight welcomi...\n",
      "1               3  Booking emergency exit seat still meant huge d...\n",
      "2              10  Excellent performance front I would definitely...\n",
      "3              10  Pretty comfortable flight considering I flying...\n",
      "4              10  The service consistently good start finish The...\n",
      "\n",
      "Prediction DataFrame:\n",
      "   Month Flown  Seat Comfort  Staff Service  Food & Beverages  \\\n",
      "0            3             4              4                 4   \n",
      "1            2             5              3                 4   \n",
      "2            2             1              5                 2   \n",
      "3            2             5              5                 5   \n",
      "4            2             5              5                 5   \n",
      "\n",
      "   Inflight Entertainment  Value For Money  Overall Rating  Recommended  \\\n",
      "0                       4                4               9            1   \n",
      "1                       4                1               3            0   \n",
      "2                       1                5              10            1   \n",
      "3                       5                5              10            1   \n",
      "4                       5                5              10            1   \n",
      "\n",
      "   Year Flown  Day   ...  \\\n",
      "0        2024     1  ...   \n",
      "1        2024    21  ...   \n",
      "2        2024    20  ...   \n",
      "3        2024    19  ...   \n",
      "4        2024    19  ...   \n",
      "\n",
      "   Reviews_  The seat pockets were ripped and I was unable to store anything. When I used the tray my drink slid off bec the tray was unstable. I mentioned it to the staff but they acted like they didn't know what I was talking about. I used to regards Emirates as tops but very dissatisfied. Every aircraft was quite poor except the CPT/DXB and that was because I slept for the entire flight.  \\\n",
      "0                                                0.0                                                                                                                                                                                                                                                                                                                                                        \n",
      "1                                                0.0                                                                                                                                                                                                                                                                                                                                                        \n",
      "2                                                0.0                                                                                                                                                                                                                                                                                                                                                        \n",
      "3                                                0.0                                                                                                                                                                                                                                                                                                                                                        \n",
      "4                                                0.0                                                                                                                                                                                                                                                                                                                                                        \n",
      "\n",
      "   Reviews_  They canceled my mother’s flight without any announcement to the passengers who were waiting in line for almost 2 hours. The airport flight information displays still showed that the flight was on time even after we were turned away 2 hours later. While we were at the ticket counter trying to figure out what to do next, their manager told us that flight will be tomorrow morning at 8am (which is incorrect because Seattle only has 1 ANA flight a day, and they’re all at 3:35pm). My mother was staying with us so they didn’t even pay for anything for inconvenience of the delay. They didn’t even offer to try and find another flight. We came back the next afternoon, and finally were able to check in her bags and when we inquired about a seat upgrade (like business class since she already had premium economy), we were told that it was full and they couldn’t upgrade her. They provided nothing for any sort of compensation for the inconvenience,   \\\n",
      "0                                                0.0                                                                                                                                                                                                                                                                                                                                                                                                                                                                                                                                                                                                                                                                                                                                                                                                                                                                                                                                                 \n",
      "1                                                0.0                                                                                                                                                                                                                                                                                                                                                                                                                                                                                                                                                                                                                                                                                                                                                                                                                                                                                                                                                 \n",
      "2                                                0.0                                                                                                                                                                                                                                                                                                                                                                                                                                                                                                                                                                                                                                                                                                                                                                                                                                                                                                                                                 \n",
      "3                                                0.0                                                                                                                                                                                                                                                                                                                                                                                                                                                                                                                                                                                                                                                                                                                                                                                                                                                                                                                                                 \n",
      "4                                                0.0                                                                                                                                                                                                                                                                                                                                                                                                                                                                                                                                                                                                                                                                                                                                                                                                                                                                                                                                                 \n",
      "\n",
      "   Reviews_  This company is really number one. Excellent food, kind staff, good seats, clean toilet  No complaining! They are the best and my favorite.   \\\n",
      "0                                                0.0                                                                                                        \n",
      "1                                                0.0                                                                                                        \n",
      "2                                                0.0                                                                                                        \n",
      "3                                                0.0                                                                                                        \n",
      "4                                                0.0                                                                                                        \n",
      "\n",
      "   Reviews_  What a nightmare. Taken back to the stand and kept on the plane for 2 hours in sweltering heat with little refreshment and terrible communication from the pilot and staff on board about the fault and when it will be fixed. Absolutely pathetic customer service - it’s like torture on the plane. Stay away from this airline - they do not look after you when there is a problem.  \\\n",
      "0                                                0.0                                                                                                                                                                                                                                                                                                                                                   \n",
      "1                                                0.0                                                                                                                                                                                                                                                                                                                                                   \n",
      "2                                                0.0                                                                                                                                                                                                                                                                                                                                                   \n",
      "3                                                0.0                                                                                                                                                                                                                                                                                                                                                   \n",
      "4                                                0.0                                                                                                                                                                                                                                                                                                                                                   \n",
      "\n",
      "   Type of Traveller_Couple Leisure  Type of Traveller_Family Leisure  \\\n",
      "0                               0.0                               0.0   \n",
      "1                               0.0                               0.0   \n",
      "2                               0.0                               1.0   \n",
      "3                               0.0                               0.0   \n",
      "4                               0.0                               1.0   \n",
      "\n",
      "   Type of Traveller_Solo Leisure  Class_Economy Class  Class_First Class  \\\n",
      "0                             1.0                  0.0                0.0   \n",
      "1                             1.0                  1.0                0.0   \n",
      "2                             0.0                  1.0                0.0   \n",
      "3                             1.0                  1.0                0.0   \n",
      "4                             0.0                  1.0                0.0   \n",
      "\n",
      "   Class_Premium Economy  \n",
      "0                    0.0  \n",
      "1                    0.0  \n",
      "2                    0.0  \n",
      "3                    0.0  \n",
      "4                    0.0  \n",
      "\n",
      "[5 rows x 8131 columns]\n"
     ]
    }
   ],
   "source": [
    "# 1. Sentiment Analysis DataFrame\n",
    "sentiment_df = df[['Overall Rating', 'Cleaned_Reviews']]\n",
    "\n",
    "# 2. Prediction DataFrame (all other columns except 'Cleaned_Review')\n",
    "prediction_df = df.drop(['Cleaned_Reviews'], axis=1)\n",
    "\n",
    "# Display the first few rows of both DataFrames\n",
    "print(\"Sentiment Analysis DataFrame:\")\n",
    "print(sentiment_df.head())\n",
    "\n",
    "print(\"\\nPrediction DataFrame:\")\n",
    "print(prediction_df.head())\n"
   ]
  }
 ],
 "metadata": {
  "accelerator": "GPU",
  "colab": {
   "gpuType": "T4",
   "provenance": []
  },
  "kernelspec": {
   "display_name": "base",
   "language": "python",
   "name": "python3"
  },
  "language_info": {
   "codemirror_mode": {
    "name": "ipython",
    "version": 3
   },
   "file_extension": ".py",
   "mimetype": "text/x-python",
   "name": "python",
   "nbconvert_exporter": "python",
   "pygments_lexer": "ipython3",
   "version": "3.12.2"
  }
 },
 "nbformat": 4,
 "nbformat_minor": 0
}
